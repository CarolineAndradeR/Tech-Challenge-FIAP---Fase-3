{
  "nbformat": 4,
  "nbformat_minor": 0,
  "metadata": {
    "colab": {
      "provenance": [],
      "gpuType": "T4",
      "mount_file_id": "https://github.com/CarolineAndradeR/Atividade_nao_avaliativas_FIAP/blob/main/atividade.ipynb",
      "authorship_tag": "ABX9TyPEXvaIVOPhTuYYM1X5vieO",
      "include_colab_link": true
    },
    "kernelspec": {
      "name": "python3",
      "display_name": "Python 3"
    },
    "language_info": {
      "name": "python"
    },
    "accelerator": "GPU"
  },
  "cells": [
    {
      "cell_type": "markdown",
      "metadata": {
        "id": "view-in-github",
        "colab_type": "text"
      },
      "source": [
        "<a href=\"https://colab.research.google.com/github/CarolineAndradeR/Atividade_nao_avaliativas_FIAP/blob/main/atividade.ipynb\" target=\"_parent\"><img src=\"https://colab.research.google.com/assets/colab-badge.svg\" alt=\"Open In Colab\"/></a>"
      ]
    },
    {
      "cell_type": "code",
      "source": [
        "import numpy as np\n",
        "import tensorflow as tf\n",
        "import pandas as pd\n",
        "import nltk\n",
        "from nltk.corpus import stopwords\n",
        "from nltk.tokenize import word_tokenize\n",
        "from nltk.stem import PorterStemmer\n",
        "from sklearn.model_selection import train_test_split"
      ],
      "metadata": {
        "id": "TtG9ZQSaahRX"
      },
      "execution_count": 101,
      "outputs": []
    },
    {
      "cell_type": "code",
      "source": [
        "# Download dos recursos do NLTK\n",
        "nltk.download('punkt')\n",
        "nltk.download('stopwords')"
      ],
      "metadata": {
        "id": "puYkOxlxb5JF",
        "outputId": "719b9e36-5b97-4cf4-d718-f7a093d6de09",
        "colab": {
          "base_uri": "https://localhost:8080/"
        }
      },
      "execution_count": 102,
      "outputs": [
        {
          "output_type": "stream",
          "name": "stderr",
          "text": [
            "[nltk_data] Downloading package punkt to /root/nltk_data...\n",
            "[nltk_data]   Package punkt is already up-to-date!\n",
            "[nltk_data] Downloading package stopwords to /root/nltk_data...\n",
            "[nltk_data]   Package stopwords is already up-to-date!\n"
          ]
        },
        {
          "output_type": "execute_result",
          "data": {
            "text/plain": [
              "True"
            ]
          },
          "metadata": {},
          "execution_count": 102
        }
      ]
    },
    {
      "cell_type": "code",
      "source": [
        "# Carregar dados\n",
        "dados_review = pd.read_csv('/content/drive/MyDrive/review_clientes_melhores_compras.csv')"
      ],
      "metadata": {
        "id": "GPndPBA0gPKF"
      },
      "execution_count": 103,
      "outputs": []
    },
    {
      "cell_type": "code",
      "source": [
        "# Inicialização do Stemmer\n",
        "stemmer = PorterStemmer()"
      ],
      "metadata": {
        "id": "_d5DFffZjjZM"
      },
      "execution_count": 104,
      "outputs": []
    },
    {
      "cell_type": "code",
      "source": [
        "# Remoção de pontuação e caracteres especiais, normalização e tokenização\n",
        "def preprocess_text(text):\n",
        "# Transfoma todas as letras em minúsculas\n",
        "    text = text.lower()\n",
        "# Dividir o texto em palavras individuais (tokens)\n",
        "    tokens = word_tokenize(text)\n",
        "# Remoção das letras que não fazem parte do alfabeto\n",
        "    tokens = [token for token in tokens if token.isalpha()]\n",
        "# Redução de cada palavra em uma única\n",
        "    tokens = [stemmer.stem(token) for token in tokens]\n",
        "    return ' '.join(tokens)"
      ],
      "metadata": {
        "id": "4uyyrw9dkGG3"
      },
      "execution_count": 105,
      "outputs": []
    },
    {
      "cell_type": "code",
      "source": [
        "# Aplicação das etapas de pré-processamento\n",
        "dados_review['review_cliente'] = dados_review['review_cliente'].apply(preprocess_text)"
      ],
      "metadata": {
        "id": "nEuBXHzglK4e"
      },
      "execution_count": 106,
      "outputs": []
    },
    {
      "cell_type": "code",
      "source": [
        "# Remoção de stopwords\n",
        "stop_words = set(stopwords.words('portuguese'))\n",
        "def remove_stopwords(text):\n",
        "    tokens = word_tokenize(text)\n",
        "    tokens = [token for token in tokens if token not in stop_words]\n",
        "    return ' '.join(tokens)"
      ],
      "metadata": {
        "id": "g22x9Mg4lk6P"
      },
      "execution_count": 107,
      "outputs": []
    },
    {
      "cell_type": "code",
      "source": [
        "# Aplicação das etapas de stopwords\n",
        "dados_review['review_cliente'] = dados_review['review_cliente'].apply(remove_stopwords)"
      ],
      "metadata": {
        "id": "1Z52K9yenL3p"
      },
      "execution_count": 108,
      "outputs": []
    },
    {
      "cell_type": "code",
      "source": [
        "# Divisão dos dados em treinamento e teste\n",
        "X = dados_review['review_cliente']\n",
        "y = dados_review['sentimento']\n",
        "X_train, X_test, y_train, y_test = train_test_split(X, y, test_size=0.2, random_state=42)"
      ],
      "metadata": {
        "id": "6sfUjMT2nu8M"
      },
      "execution_count": 109,
      "outputs": []
    },
    {
      "cell_type": "code",
      "source": [
        "from tensorflow.keras.models import Sequential\n",
        "from tensorflow.keras.layers import Embedding, GlobalAveragePooling1D, Dense\n",
        "from tensorflow.keras.preprocessing.text import Tokenizer\n",
        "from tensorflow.keras.preprocessing.sequence import pad_sequences\n",
        "from sklearn.metrics import accuracy_score"
      ],
      "metadata": {
        "id": "B9TKvRycrS9w"
      },
      "execution_count": 110,
      "outputs": []
    },
    {
      "cell_type": "code",
      "source": [
        "# Criação de um tokenizador\n",
        "tokenizer = Tokenizer(num_words=1000, oov_token='<OOV>')\n",
        "tokenizer.fit_on_texts(X_train)"
      ],
      "metadata": {
        "id": "Va4DKkujrhIu"
      },
      "execution_count": 111,
      "outputs": []
    },
    {
      "cell_type": "code",
      "source": [
        "# conversão dos textos em números\n",
        "X_train_sequences = tokenizer.texts_to_sequences(X_train)\n",
        "X_test_sequences = tokenizer.texts_to_sequences(X_test)"
      ],
      "metadata": {
        "id": "a8Mz-ijesqjx"
      },
      "execution_count": 112,
      "outputs": []
    },
    {
      "cell_type": "code",
      "source": [
        "# Padding para ter sequências do mesmo comprimento\n",
        "max_length = max([len(sequence) for sequence in X_train_sequences])\n",
        "X_train_padded = pad_sequences(X_train_sequences, maxlen=max_length, padding='post')\n",
        "X_test_padded = pad_sequences(X_test_sequences, maxlen=max_length, padding='post')"
      ],
      "metadata": {
        "id": "UkQRWj3nsO4f"
      },
      "execution_count": 113,
      "outputs": []
    },
    {
      "cell_type": "code",
      "source": [
        "# Construção do modelo\n",
        "model = Sequential([\n",
        "    Embedding(input_dim=1000, output_dim=16, input_length=max_length),\n",
        "    GlobalAveragePooling1D(),\n",
        "    Dense(16, activation='relu'),\n",
        "    Dense(1, activation='sigmoid')\n",
        "])"
      ],
      "metadata": {
        "id": "gdmPg1_duI-b"
      },
      "execution_count": 114,
      "outputs": []
    },
    {
      "cell_type": "code",
      "source": [
        "# Compilação do modelo\n",
        "model.compile(optimizer='adam', loss='binary_crossentropy', metrics=['accuracy'])"
      ],
      "metadata": {
        "id": "ni7I6VNEuoRU"
      },
      "execution_count": 115,
      "outputs": []
    },
    {
      "cell_type": "code",
      "source": [
        "# Treinamento do modelo\n",
        "model.fit(X_train_padded, y_train, epochs=10, validation_data=(X_test_padded, y_test))"
      ],
      "metadata": {
        "id": "BCCRjSHbu_WF",
        "outputId": "ac584a8f-842d-453d-aa00-2bb8e11c0d4e",
        "colab": {
          "base_uri": "https://localhost:8080/"
        }
      },
      "execution_count": 116,
      "outputs": [
        {
          "output_type": "stream",
          "name": "stdout",
          "text": [
            "Epoch 1/10\n",
            "1073/1073 [==============================] - 22s 19ms/step - loss: 0.4018 - accuracy: 0.8186 - val_loss: 0.2894 - val_accuracy: 0.8960\n",
            "Epoch 2/10\n",
            "1073/1073 [==============================] - 7s 6ms/step - loss: 0.2796 - accuracy: 0.8979 - val_loss: 0.2701 - val_accuracy: 0.9040\n",
            "Epoch 3/10\n",
            "1073/1073 [==============================] - 7s 7ms/step - loss: 0.2660 - accuracy: 0.9047 - val_loss: 0.2699 - val_accuracy: 0.9000\n",
            "Epoch 4/10\n",
            "1073/1073 [==============================] - 6s 6ms/step - loss: 0.2599 - accuracy: 0.9062 - val_loss: 0.2700 - val_accuracy: 0.9008\n",
            "Epoch 5/10\n",
            "1073/1073 [==============================] - 7s 7ms/step - loss: 0.2559 - accuracy: 0.9072 - val_loss: 0.2643 - val_accuracy: 0.9031\n",
            "Epoch 6/10\n",
            "1073/1073 [==============================] - 6s 5ms/step - loss: 0.2515 - accuracy: 0.9080 - val_loss: 0.2611 - val_accuracy: 0.9045\n",
            "Epoch 7/10\n",
            "1073/1073 [==============================] - 6s 5ms/step - loss: 0.2480 - accuracy: 0.9095 - val_loss: 0.2640 - val_accuracy: 0.9010\n",
            "Epoch 8/10\n",
            "1073/1073 [==============================] - 7s 6ms/step - loss: 0.2450 - accuracy: 0.9100 - val_loss: 0.2621 - val_accuracy: 0.9027\n",
            "Epoch 9/10\n",
            "1073/1073 [==============================] - 5s 5ms/step - loss: 0.2420 - accuracy: 0.9099 - val_loss: 0.2657 - val_accuracy: 0.9017\n",
            "Epoch 10/10\n",
            "1073/1073 [==============================] - 8s 7ms/step - loss: 0.2392 - accuracy: 0.9105 - val_loss: 0.2611 - val_accuracy: 0.9017\n"
          ]
        },
        {
          "output_type": "execute_result",
          "data": {
            "text/plain": [
              "<keras.callbacks.History at 0x7b0c84a4df60>"
            ]
          },
          "metadata": {},
          "execution_count": 116
        }
      ]
    },
    {
      "cell_type": "code",
      "source": [
        "# Avaliação da acurácia\n",
        "y_pred_prob = model.predict(X_test_padded)\n",
        "y_pred = (y_pred_prob > 0.5).astype(int)\n",
        "accuracy = accuracy_score(y_test, y_pred)\n",
        "print(f'Acurácia do modelo: {accuracy:.2f}')"
      ],
      "metadata": {
        "id": "Wt9JhymxvtI4",
        "outputId": "911c8418-a60d-4625-a6ad-600cf67500ab",
        "colab": {
          "base_uri": "https://localhost:8080/"
        }
      },
      "execution_count": 117,
      "outputs": [
        {
          "output_type": "stream",
          "name": "stdout",
          "text": [
            "269/269 [==============================] - 0s 2ms/step\n",
            "Acurácia do modelo: 0.90\n"
          ]
        }
      ]
    },
    {
      "cell_type": "code",
      "source": [
        "# Texto para fazer a previsão\n",
        "nova_avaliacao = \"Péssima compra, não recomento a loja!.\"\n",
        "\n",
        "# Pré-processamento do texto\n",
        "nova_texto_processado = preprocess_text(nova_avaliacao)\n",
        "nova_texto_tokenizado = tokenizer.texts_to_sequences([nova_texto_processado])\n",
        "nova_texto_predicao = pad_sequences(nova_texto_tokenizado, maxlen=max_length, padding='post')\n",
        "\n",
        "# Fazendo a previsão\n",
        "prediction_prob = model.predict(nova_texto_predicao)[0][0]\n",
        "prediction_class = (prediction_prob > 0.5).astype(int)\n",
        "\n",
        "print(f\"Probabilidade da classe positiva: {prediction_prob:.4f}\")\n",
        "print(f\"Previsão da classe (0 - Negativa, 1 - Positiva): {prediction_class}\")"
      ],
      "metadata": {
        "id": "pelFUKbvyADQ",
        "outputId": "613b0626-c366-48ab-d550-102882c250c4",
        "colab": {
          "base_uri": "https://localhost:8080/"
        }
      },
      "execution_count": 118,
      "outputs": [
        {
          "output_type": "stream",
          "name": "stdout",
          "text": [
            "1/1 [==============================] - 0s 20ms/step\n",
            "Probabilidade da classe positiva: 0.6945\n",
            "Previsão da classe (0 - Negativa, 1 - Positiva): 1\n"
          ]
        }
      ]
    },
    {
      "cell_type": "code",
      "source": [
        "# Texto para fazer a previsão\n",
        "nova_avaliacao = \"Essa foi uma péssima experiência de compra.\"\n",
        "\n",
        "# Pré-processamento do texto\n",
        "nova_texto_processado = preprocess_text(nova_avaliacao)\n",
        "nova_texto_tokenizado = tokenizer.texts_to_sequences([nova_texto_processado])\n",
        "nova_texto_predicao = pad_sequences(nova_texto_tokenizado, maxlen=max_length, padding='post')\n",
        "\n",
        "# Fazendo a previsão\n",
        "prediction_prob = model.predict(nova_texto_predicao)[0][0]\n",
        "prediction_class = (prediction_prob > 0.5).astype(int)\n",
        "\n",
        "print(f\"Probabilidade da classe positiva: {prediction_prob:.4f}\")\n",
        "print(f\"Previsão da classe (0 - Negativa, 1 - Positiva): {prediction_class}\")"
      ],
      "metadata": {
        "id": "hzA0bEgMyheI",
        "outputId": "53fcde0d-4c44-456c-cc89-d81e662f2821",
        "colab": {
          "base_uri": "https://localhost:8080/"
        }
      },
      "execution_count": 59,
      "outputs": [
        {
          "output_type": "stream",
          "name": "stdout",
          "text": [
            "1/1 [==============================] - 0s 31ms/step\n",
            "Probabilidade da classe positiva: 0.4321\n",
            "Previsão da classe (0 - Negativa, 1 - Positiva): 0\n"
          ]
        }
      ]
    },
    {
      "cell_type": "code",
      "source": [
        "# Função para fazer previsões\n",
        "def predict_sentiment(text):\n",
        "    # Pré-processamento do texto\n",
        "    text_preprocessed = preprocess_text(text)\n",
        "    text_tokenized = tokenizer.texts_to_sequences([text_preprocessed])\n",
        "    text_padded = pad_sequences(text_tokenized, maxlen=max_length, padding='post')\n",
        "\n",
        "    # Fazendo a previsão\n",
        "    prediction_prob = model.predict(text_padded)[0][0]\n",
        "    prediction_class = (prediction_prob > 0.5).astype(int)\n",
        "\n",
        "    sentiment = \"Positiva\" if prediction_class == 1 else \"Negativa\"\n",
        "\n",
        "    print(f\"Avaliação: {text}\")\n",
        "    print(f\"Probabilidade da classe positiva: {prediction_prob:.4f}\")\n",
        "    print(f\"Previsão da classe ({sentiment}): {prediction_class}\")\n",
        "    print(\"\\n\")\n",
        "\n",
        "# Fazer previsões para avaliações positivas\n",
        "positive_texts = [\n",
        "    \"Produto de excelente qualidade, recomendo!\",\n",
        "    \"Atendimento rápido e eficiente, gostei muito.\",\n",
        "    \"Ótimo preço e entrega dentro do prazo.\"\n",
        "]\n",
        "\n",
        "for text in positive_texts:\n",
        "    predict_sentiment(text)\n",
        "\n",
        "# Fazer previsões para avaliações negativas\n",
        "negative_texts = [\n",
        "    \"Produto chegou danificado, péssima experiência.\",\n",
        "    \"Péssimo atendimento ao cliente, não recomendo.\",\n",
        "    \"Entrega atrasou e ninguém responde às reclamações.\"\n",
        "]\n",
        "\n",
        "for text in negative_texts:\n",
        "    predict_sentiment(text)"
      ],
      "metadata": {
        "id": "DcPifYz3y_3w",
        "outputId": "e9451057-7ea3-438e-f488-069b3db12cc7",
        "colab": {
          "base_uri": "https://localhost:8080/"
        }
      },
      "execution_count": 60,
      "outputs": [
        {
          "output_type": "stream",
          "name": "stdout",
          "text": [
            "1/1 [==============================] - 0s 20ms/step\n",
            "Avaliação: Produto de excelente qualidade, recomendo!\n",
            "Probabilidade da classe positiva: 0.9765\n",
            "Previsão da classe (Positiva): 1\n",
            "\n",
            "\n",
            "1/1 [==============================] - 0s 20ms/step\n",
            "Avaliação: Atendimento rápido e eficiente, gostei muito.\n",
            "Probabilidade da classe positiva: 0.9275\n",
            "Previsão da classe (Positiva): 1\n",
            "\n",
            "\n",
            "1/1 [==============================] - 0s 21ms/step\n",
            "Avaliação: Ótimo preço e entrega dentro do prazo.\n",
            "Probabilidade da classe positiva: 0.8843\n",
            "Previsão da classe (Positiva): 1\n",
            "\n",
            "\n",
            "1/1 [==============================] - 0s 22ms/step\n",
            "Avaliação: Produto chegou danificado, péssima experiência.\n",
            "Probabilidade da classe positiva: 0.5117\n",
            "Previsão da classe (Positiva): 1\n",
            "\n",
            "\n",
            "1/1 [==============================] - 0s 22ms/step\n",
            "Avaliação: Péssimo atendimento ao cliente, não recomendo.\n",
            "Probabilidade da classe positiva: 0.7098\n",
            "Previsão da classe (Positiva): 1\n",
            "\n",
            "\n",
            "1/1 [==============================] - 0s 19ms/step\n",
            "Avaliação: Entrega atrasou e ninguém responde às reclamações.\n",
            "Probabilidade da classe positiva: 0.3550\n",
            "Previsão da classe (Negativa): 0\n",
            "\n",
            "\n"
          ]
        }
      ]
    }
  ]
}